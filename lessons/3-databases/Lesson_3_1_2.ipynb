{
 "cells": [
  {
   "cell_type": "markdown",
   "metadata": {},
   "source": [
    "# Connecting to and Operations on a Database\n",
    "\n",
    "## lesson_3_1_2"
   ]
  },
  {
   "cell_type": "markdown",
   "metadata": {},
   "source": [
    "### Installing PostgreSQL on the Playground Server\n",
    "\n",
    "At the command line, the first one will require your password:\n",
    "- `sudo apt update` \n",
    "- `sudo apt install postgresql postgresql-contrib`\n",
    "\n",
    "### Gain Access to PSQL Command Line\n",
    "- psql is the interactive terminal for working with PostgreSQL\n",
    "\n",
    "At the command line:\n",
    "- `sudo -u postgres psql`\n",
    "\n",
    "You are not logged in as the \"postgres\" superuser.\n",
    "\n",
    "### Create User, Database and Grant Access\n",
    "\n",
    "#### Create Database\n",
    "- `CREATE DATABASE cloud_user;`\n",
    "\n",
    "#### Create User\n",
    "- `CREATE USER cloud_user WITH ENCRYPTED PASSWORD '<the password you want to use>';`\n",
    "\n",
    "#### Grant Access to Database by User\n",
    "- `GRANT ALL PRIVILEGES ON DATABASE cloud_user TO cloud_user;`\n",
    "\n",
    "You now have a database you can access named cloud_user as the user cloud_user.\n",
    "\n",
    "CREATE TABLE tips (id integer PRIMARY KEY,weekday text,meal_type text,wait_staff text,party_size int,meal_total float,tip float);\n",
    "\n",
    "#### Leave PSQL\n",
    "- `\\q`\n",
    "\n",
    "#### Configure PostgreSQL For Remote Access\n",
    "- PostgreSQL installs with all access to remote users turned off; this is a good thing, think security\n",
    "\n",
    "To allow remote access:\n",
    "\n",
    "- `sudo nano /etc/postgresql/10/main/pg_hba.conf`\n",
    "    \n",
    "    Add a last entry to the file:\n",
    "    - `host    all             all             0.0.0.0/0               md5`\n",
    "- `CTRL-x` to exit and type `Y` and `Enter\\Return` to save\n",
    "\n",
    "- `sudo nano /etc/postgresql/10/main/postgresql.conf`\n",
    "\n",
    "    Find the section labeled `CONNECTIONS AND AUTHENTICATION` and above this line \n",
    "    \n",
    "    - `#listen_addresses = 'localhost'` add \n",
    "    - `listen_addresses = '*'`\n",
    "- `CTRL-x` to exit and type `Y` and `Enter\\Return` to save \n",
    "\n",
    "- `sudo /etc/init.d/postgresql restart`"
   ]
  },
  {
   "cell_type": "markdown",
   "metadata": {},
   "source": [
    "### Install Postgresql Driver to Your Virtual Environment\n",
    "- `conda activate python_data_course\n",
    "- `conda install psycopg2`\n",
    "\n",
    "### **_Start and connect to the Jupyter Notebook server as usual._**\n",
    "\n",
    "-----"
   ]
  },
  {
   "cell_type": "markdown",
   "metadata": {},
   "source": [
    "### Using Python to Connect to Server"
   ]
  },
  {
   "cell_type": "code",
   "execution_count": 1,
   "metadata": {},
   "outputs": [
    {
     "ename": "ProgrammingError",
     "evalue": "invalid dsn: missing \"=\" after \"address\" in connection info string\n",
     "output_type": "error",
     "traceback": [
      "\u001b[0;31m---------------------------------------------------------------------------\u001b[0m",
      "\u001b[0;31mProgrammingError\u001b[0m                          Traceback (most recent call last)",
      "\u001b[0;32m<ipython-input-1-730d02069985>\u001b[0m in \u001b[0;36m<module>\u001b[0;34m\u001b[0m\n\u001b[1;32m      3\u001b[0m \u001b[0;31m# Make connection to db\u001b[0m\u001b[0;34m\u001b[0m\u001b[0;34m\u001b[0m\u001b[0;34m\u001b[0m\u001b[0m\n\u001b[1;32m      4\u001b[0m conn = psycopg2.connect(\n\u001b[0;32m----> 5\u001b[0;31m     \u001b[0;34m\"host=<ip address of server> port=5432 dbname=cloud_user user=cloud_user password=<your postgresql password>\"\u001b[0m\u001b[0;34m\u001b[0m\u001b[0;34m\u001b[0m\u001b[0m\n\u001b[0m\u001b[1;32m      6\u001b[0m )\n\u001b[1;32m      7\u001b[0m \u001b[0;34m\u001b[0m\u001b[0m\n",
      "\u001b[0;32m~/anaconda3/envs/jupyter_notebooks/lib/python3.7/site-packages/psycopg2/__init__.py\u001b[0m in \u001b[0;36mconnect\u001b[0;34m(dsn, connection_factory, cursor_factory, **kwargs)\u001b[0m\n\u001b[1;32m    123\u001b[0m         \u001b[0;32mraise\u001b[0m \u001b[0mTypeError\u001b[0m\u001b[0;34m(\u001b[0m\u001b[0;34m'missing dsn and no parameters'\u001b[0m\u001b[0;34m)\u001b[0m\u001b[0;34m\u001b[0m\u001b[0;34m\u001b[0m\u001b[0m\n\u001b[1;32m    124\u001b[0m \u001b[0;34m\u001b[0m\u001b[0m\n\u001b[0;32m--> 125\u001b[0;31m     \u001b[0mdsn\u001b[0m \u001b[0;34m=\u001b[0m \u001b[0m_ext\u001b[0m\u001b[0;34m.\u001b[0m\u001b[0mmake_dsn\u001b[0m\u001b[0;34m(\u001b[0m\u001b[0mdsn\u001b[0m\u001b[0;34m,\u001b[0m \u001b[0;34m**\u001b[0m\u001b[0mkwargs\u001b[0m\u001b[0;34m)\u001b[0m\u001b[0;34m\u001b[0m\u001b[0;34m\u001b[0m\u001b[0m\n\u001b[0m\u001b[1;32m    126\u001b[0m     \u001b[0mconn\u001b[0m \u001b[0;34m=\u001b[0m \u001b[0m_connect\u001b[0m\u001b[0;34m(\u001b[0m\u001b[0mdsn\u001b[0m\u001b[0;34m,\u001b[0m \u001b[0mconnection_factory\u001b[0m\u001b[0;34m=\u001b[0m\u001b[0mconnection_factory\u001b[0m\u001b[0;34m,\u001b[0m \u001b[0;34m**\u001b[0m\u001b[0mkwasync\u001b[0m\u001b[0;34m)\u001b[0m\u001b[0;34m\u001b[0m\u001b[0;34m\u001b[0m\u001b[0m\n\u001b[1;32m    127\u001b[0m     \u001b[0;32mif\u001b[0m \u001b[0mcursor_factory\u001b[0m \u001b[0;32mis\u001b[0m \u001b[0;32mnot\u001b[0m \u001b[0;32mNone\u001b[0m\u001b[0;34m:\u001b[0m\u001b[0;34m\u001b[0m\u001b[0;34m\u001b[0m\u001b[0m\n",
      "\u001b[0;32m~/anaconda3/envs/jupyter_notebooks/lib/python3.7/site-packages/psycopg2/extensions.py\u001b[0m in \u001b[0;36mmake_dsn\u001b[0;34m(dsn, **kwargs)\u001b[0m\n\u001b[1;32m    150\u001b[0m     \u001b[0;31m# If no kwarg is specified don't mung the dsn, but verify it\u001b[0m\u001b[0;34m\u001b[0m\u001b[0;34m\u001b[0m\u001b[0;34m\u001b[0m\u001b[0m\n\u001b[1;32m    151\u001b[0m     \u001b[0;32mif\u001b[0m \u001b[0;32mnot\u001b[0m \u001b[0mkwargs\u001b[0m\u001b[0;34m:\u001b[0m\u001b[0;34m\u001b[0m\u001b[0;34m\u001b[0m\u001b[0m\n\u001b[0;32m--> 152\u001b[0;31m         \u001b[0mparse_dsn\u001b[0m\u001b[0;34m(\u001b[0m\u001b[0mdsn\u001b[0m\u001b[0;34m)\u001b[0m\u001b[0;34m\u001b[0m\u001b[0;34m\u001b[0m\u001b[0m\n\u001b[0m\u001b[1;32m    153\u001b[0m         \u001b[0;32mreturn\u001b[0m \u001b[0mdsn\u001b[0m\u001b[0;34m\u001b[0m\u001b[0;34m\u001b[0m\u001b[0m\n\u001b[1;32m    154\u001b[0m \u001b[0;34m\u001b[0m\u001b[0m\n",
      "\u001b[0;31mProgrammingError\u001b[0m: invalid dsn: missing \"=\" after \"address\" in connection info string\n"
     ]
    }
   ],
   "source": [
    "import psycopg2\n",
    "from psycopg2 import Error\n",
    "\n",
    "def db_server_request(sql_query)\n",
    "try:\n",
    "    # Make connection to db\n",
    "    conn = psycopg2.connect(\n",
    "        \"host=<ip address of server> port=5432 dbname=cloud_user user=cloud_user password=<your postgresql password>\"\n",
    "    )\n",
    "\n",
    "    # Create a cursor to db\n",
    "    cur = conn.cursor()\n",
    "    \n",
    "    # Send sql query to request\n",
    "    cur.execute(sql_query)\n",
    "    records = conn.commit()\n",
    "\n",
    "except (Exception, psycopg2.Error) as error :\n",
    "    print (\"Error while connecting to PostgreSQL\", error)\n",
    "    \n",
    "finally:\n",
    "    #closing database connection.\n",
    "    if(conn):\n",
    "        cur.close()\n",
    "        conn.close()\n",
    "        print(\"PostgreSQL connection is closed\")\n",
    "    return records\n",
    "        \n"
   ]
  },
  {
   "cell_type": "markdown",
   "metadata": {},
   "source": [
    "### Create Table"
   ]
  },
  {
   "cell_type": "code",
   "execution_count": 9,
   "metadata": {},
   "outputs": [],
   "source": [
    "create_table_query = '''CREATE TABLE tips (\n",
    "    ID INT PRIMARY KEY NOT NULL,\n",
    "    weekday varchar (10),\n",
    "    meal_type varchar (10),\n",
    "    wait_staff varchare(10),\n",
    "    party_size int,\n",
    "    meal_total float4\n",
    "); '''\n",
    "\n",
    "records = db_server_request(create_table_query)\n",
    "print(records)\n",
    "\n",
    "\n",
    "\n",
    "with open('../data/tips.csv', 'r') as f:\n",
    "# Notice that we don't need the `csv` module.\n",
    "next(f) # Skip the header row.\n",
    "cur.copy_from(f, 'tips', sep=',')\n",
    "conn.commit()"
   ]
  },
  {
   "cell_type": "markdown",
   "metadata": {},
   "source": [
    "### Add Data to Table"
   ]
  },
  {
   "cell_type": "code",
   "execution_count": null,
   "metadata": {},
   "outputs": [],
   "source": [
    "try:\n",
    "    # Make connection to db\n",
    "    conn = psycopg2.connect(\n",
    "        \"host=<ip address of server> port=5432 dbname=cloud_user user=cloud_user password=<your postgresql password>\"\n",
    "    )\n",
    "\n",
    "    # Create a cursor to db\n",
    "    cur = conn.cursor()\n",
    "    \n",
    "    with open('../data/tips.csv', 'r') as f:\n",
    "        # skip first row, header row\n",
    "        next(f)\n",
    "        cur.copy_from(f, 'tips', sep=\",\")\n",
    "        conn.commit()\n",
    "\n",
    "except (Exception, psycopg2.Error) as error :\n",
    "    print (\"Error while connecting to PostgreSQL\", error)\n",
    "    \n",
    "finally:\n",
    "    #closing database connection.\n",
    "    if(conn):\n",
    "        cur.close()\n",
    "        conn.close()\n",
    "        print(\"PostgreSQL connection is closed\")\n",
    "        print(\"tips table populated\")"
   ]
  },
  {
   "cell_type": "markdown",
   "metadata": {},
   "source": [
    "SELECT\n",
    "UPDATE\n",
    "DEL\n",
    "\n",
    "FETCHONE\n",
    "FETCHMANY\n",
    "FETCHALL\n",
    "\n",
    "TALK ABOUT USING FETCHONE AND MANY"
   ]
  },
  {
   "cell_type": "code",
   "execution_count": null,
   "metadata": {},
   "outputs": [],
   "source": []
  }
 ],
 "metadata": {
  "kernelspec": {
   "display_name": "Python 3",
   "language": "python",
   "name": "python3"
  },
  "language_info": {
   "codemirror_mode": {
    "name": "ipython",
    "version": 3
   },
   "file_extension": ".py",
   "mimetype": "text/x-python",
   "name": "python",
   "nbconvert_exporter": "python",
   "pygments_lexer": "ipython3",
   "version": "3.7.6"
  }
 },
 "nbformat": 4,
 "nbformat_minor": 2
}
