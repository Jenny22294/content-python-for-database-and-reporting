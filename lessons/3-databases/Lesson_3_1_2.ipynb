{
 "cells": [
  {
   "cell_type": "markdown",
   "metadata": {},
   "source": [
    "# Connecting to and Operations on a Database\n",
    "\n",
    "## lesson_3_1_2"
   ]
  },
  {
   "cell_type": "markdown",
   "metadata": {},
   "source": [
    "### Installing PostgreSQL on the Playground Server\n",
    "\n",
    "At the command line, the first one will require your password:\n",
    "- `sudo apt update` \n",
    "- `sudo apt install postgresql postgresql-contrib`\n",
    "\n",
    "### Gain Access to PSQL Command Line\n",
    "- psql is the interactive terminal for working with PostgreSQL\n",
    "\n",
    "At the command line:\n",
    "- `sudo -u postgres psql`\n",
    "\n",
    "You are not logged in as the \"postgres\" superuser.\n",
    "\n",
    "### Create User, Database and Grant Access\n",
    "\n",
    "#### Create Database\n",
    "- `CREATE DATABASE cloud_user;`\n",
    "\n",
    "#### Create User\n",
    "- `CREATE USER cloud_user WITH ENCRYPTED PASSWORD '<the password you want to use>';`\n",
    "\n",
    "#### Grant Access to Database by User\n",
    "- `GRANT ALL PRIVILEGES ON DATABASE cloud_user TO cloud_user;`\n",
    "\n",
    "You now have a database you can access named cloud_user as the user cloud_user.\n",
    "\n",
    "CREATE TABLE tips (id integer PRIMARY KEY,weekday text,meal_type text,wait_staff text,party_size int,meal_total float,tip float);\n",
    "\n",
    "#### Leave PSQL\n",
    "- `\\q`\n",
    "\n",
    "#### Configure PostgreSQL For Remote Access\n",
    "- PostgreSQL installs with all access to remote users turned off; this is a good thing, think security\n",
    "\n",
    "To allow remote access:\n",
    "\n",
    "- `sudo nano /etc/postgresql/10/main/pg_hba.conf`\n",
    "    \n",
    "    Add a last entry to the file:\n",
    "    - `host    all             all             0.0.0.0/0               md5`\n",
    "- `CTRL-x` to exit and type `Y` and `Enter\\Return` to save\n",
    "\n",
    "- `sudo nano /etc/postgresql/10/main/postgresql.conf`\n",
    "\n",
    "    Find the section labeled `CONNECTIONS AND AUTHENTICATION` and above this line \n",
    "    \n",
    "    - `#listen_addresses = 'localhost'` add \n",
    "    - `listen_addresses = '*'`\n",
    "- `CTRL-x` to exit and type `Y` and `Enter\\Return` to save \n",
    "\n",
    "- `sudo /etc/init.d/postgresql restart`"
   ]
  },
  {
   "cell_type": "markdown",
   "metadata": {},
   "source": [
    "### Install Postgresql Driver to Your Virtual Environment\n",
    "- `conda activate python_data_course\n",
    "- `conda install psycopg2`\n",
    "\n",
    "### **_Start and connect to the Jupyter Notebook server as usual._**\n",
    "\n",
    "-----"
   ]
  },
  {
   "cell_type": "markdown",
   "metadata": {},
   "source": [
    "### Server Operations Using Pyhton's Psycopg2"
   ]
  },
  {
   "cell_type": "code",
   "execution_count": 1,
   "metadata": {},
   "outputs": [
    {
     "ename": "ModuleNotFoundError",
     "evalue": "No module named 'psycopg2'",
     "output_type": "error",
     "traceback": [
      "\u001b[0;31m---------------------------------------------------------------------------\u001b[0m",
      "\u001b[0;31mModuleNotFoundError\u001b[0m                       Traceback (most recent call last)",
      "\u001b[0;32m<ipython-input-1-0d7def3201b3>\u001b[0m in \u001b[0;36m<module>\u001b[0;34m\u001b[0m\n\u001b[0;32m----> 1\u001b[0;31m \u001b[0;32mimport\u001b[0m \u001b[0mpsycopg2\u001b[0m\u001b[0;34m\u001b[0m\u001b[0;34m\u001b[0m\u001b[0m\n\u001b[0m\u001b[1;32m      2\u001b[0m \u001b[0;32mfrom\u001b[0m \u001b[0mpsycopg2\u001b[0m \u001b[0;32mimport\u001b[0m \u001b[0mError\u001b[0m\u001b[0;34m\u001b[0m\u001b[0;34m\u001b[0m\u001b[0m\n",
      "\u001b[0;31mModuleNotFoundError\u001b[0m: No module named 'psycopg2'"
     ]
    }
   ],
   "source": [
    "import psycopg2\n",
    "from psycopg2 import Error"
   ]
  },
  {
   "cell_type": "markdown",
   "metadata": {},
   "source": [
    "##### A Word About Database Connections\n",
    "\n",
    "In the cell below you will see I used a `try, except, finally` block.  There are a couple of main reasons and I thought it important to call them out.\n",
    "\n",
    "- Exceptions:\n",
    "    Exceptions can occur when trying to connect to a database like PostgreSQL.  Maybe the server is down.  Or perhaps it has already exceeded the maximum number of collections.  It is important to catch those errors and report out to the user (even if it is only you).\n",
    "    \n",
    "- Connections:\n",
    "    There are a limited number of connections a database server can accept.  While this is a ratehr large number, it is possible to reach that number and be refused a connection.  Be a good neighbor and always only open a connection for an operation and then close it.  Don't open a connection and leave it open while you review the data you have gotten."
   ]
  },
  {
   "cell_type": "markdown",
   "metadata": {},
   "source": [
    "### Create Table"
   ]
  },
  {
   "cell_type": "code",
   "execution_count": 9,
   "metadata": {},
   "outputs": [],
   "source": [
    "create_table_query = '''CREATE TABLE tips (\n",
    "    ID INT PRIMARY KEY NOT NULL,\n",
    "    weekday varchar (10),\n",
    "    meal_type varchar (10),\n",
    "    wait_staff varchare(10),\n",
    "    party_size int,\n",
    "    meal_total float4\n",
    "); '''\n",
    "\n",
    "try:\n",
    "    # Make connection to db\n",
    "    conn = psycopg2.connect(\n",
    "        \"host=<ip address of server> port=5432 dbname=cloud_user user=cloud_user password=<your postgresql password>\"\n",
    "    )\n",
    "\n",
    "    # Create a cursor to db\n",
    "    cur = conn.cursor()\n",
    "    \n",
    "    # Send sql query to request\n",
    "    cur.execute(create_table_query)\n",
    "    records = conn.commit()\n",
    "    rows = cur.rowcount()\n",
    "\n",
    "except (Exception, psycopg2.Error) as error :\n",
    "    print (\"Error while connecting to PostgreSQL\", error)\n",
    "    \n",
    "finally:\n",
    "    #closing database connection.\n",
    "    if(conn):\n",
    "        cur.close()\n",
    "        conn.close()\n",
    "        print(\"PostgreSQL connection is closed\")\n",
    "    return records, rows\n",
    "\n",
    "records, rows = db_server_request(create_table_query)\n",
    "print(f'Records:\\n {records} \\n\\n Row Count: {rows}')\n"
   ]
  },
  {
   "cell_type": "markdown",
   "metadata": {},
   "source": [
    "### Add the Data to Table"
   ]
  },
  {
   "cell_type": "code",
   "execution_count": null,
   "metadata": {},
   "outputs": [],
   "source": [
    "try:\n",
    "    # Make connection to db\n",
    "    conn = psycopg2.connect(\n",
    "        \"host=<ip address of server> port=5432 dbname=cloud_user user=cloud_user password=<your postgresql password>\"\n",
    "    )\n",
    "\n",
    "    # Create a cursor to db\n",
    "    cur = conn.cursor()\n",
    "    \n",
    "    with open('../data/tips.csv', 'r') as f:\n",
    "        # skip first row, header row\n",
    "        next(f)\n",
    "        cur.copy_from(f, 'tips', sep=\",\")\n",
    "        conn.commit()\n",
    "        rows = cur.rowcount()\n",
    "\n",
    "except (Exception, psycopg2.Error) as error :\n",
    "    print (\"Error while connecting to PostgreSQL\", error)\n",
    "    \n",
    "finally:\n",
    "    #closing database connection.\n",
    "    if(conn):\n",
    "        cur.close()\n",
    "        conn.close()\n",
    "        print(\"PostgreSQL connection is closed\")\n",
    "        print(\"tips table populated\")\n",
    "        print(f'Row Count: {rows}')"
   ]
  },
  {
   "cell_type": "markdown",
   "metadata": {},
   "source": [
    "### Selecting Data From a Server\n",
    "\n",
    "Use `.fetchall()` with LIMIT or TOP (#) \n",
    "- LIMIT works for most databases, but does not work with SQL Server\n",
    "- TOP (#) is used in place of LIMIT on SQL Server"
   ]
  },
  {
   "cell_type": "code",
   "execution_count": null,
   "metadata": {},
   "outputs": [],
   "source": [
    "def db_server_fetch(sql_query)\n",
    "try:\n",
    "    # Make connection to db\n",
    "    conn = psycopg2.connect(\n",
    "        \"host=<ip address of server> port=5432 dbname=cloud_user user=cloud_user password=<your postgresql password>\"\n",
    "    )\n",
    "\n",
    "    # Create a cursor to db\n",
    "    cur = conn.cursor()\n",
    "    \n",
    "    # Send sql query to request\n",
    "    cur.execute(sql_query)\n",
    "    records = conn.fetchall()\n",
    "\n",
    "except (Exception, psycopg2.Error) as error :\n",
    "    print (\"Error while connecting to PostgreSQL\", error)\n",
    "    \n",
    "finally:\n",
    "    #closing database connection.\n",
    "    if(conn):\n",
    "        cur.close()\n",
    "        conn.close()\n",
    "        print(\"PostgreSQL connection is closed\")\n",
    "    return records"
   ]
  },
  {
   "cell_type": "markdown",
   "metadata": {},
   "source": [
    "Test table is populated by `Select`ing the first five rows."
   ]
  },
  {
   "cell_type": "code",
   "execution_count": null,
   "metadata": {},
   "outputs": [],
   "source": [
    "select_query = '''SELECT * FROM tips LIMIT 5;'''\n",
    "\n",
    "records = db_server_fetch(create_table_query)\n",
    "print(records)\n"
   ]
  },
  {
   "cell_type": "code",
   "execution_count": null,
   "metadata": {},
   "outputs": [],
   "source": [
    "def db_server_change(sql_query)\n",
    "try:\n",
    "    # Make connection to db\n",
    "    conn = psycopg2.connect(\n",
    "        \"host=<ip address of server> port=5432 dbname=cloud_user user=cloud_user password=<your postgresql password>\"\n",
    "    )\n",
    "\n",
    "    # Create a cursor to db\n",
    "    cur = conn.cursor()\n",
    "    \n",
    "    # Send sql query to request\n",
    "    cur.execute(sql_query)\n",
    "    records = conn.commit()\n",
    "    rows = cur.rowcount()\n",
    "\n",
    "except (Exception, psycopg2.Error) as error :\n",
    "    print (\"Error while connecting to PostgreSQL\", error)\n",
    "    \n",
    "finally:\n",
    "    #closing database connection.\n",
    "    if(conn):\n",
    "        cur.close()\n",
    "        conn.close()\n",
    "        print(\"PostgreSQL connection is closed\")\n",
    "    return records, rows"
   ]
  },
  {
   "cell_type": "markdown",
   "metadata": {},
   "source": [
    "Add a new record with the following data:\n",
    "On Saturday, new wait staff Alfred had one person at Breakfast for 10.76 and received a 0.50 tip."
   ]
  },
  {
   "cell_type": "code",
   "execution_count": null,
   "metadata": {},
   "outputs": [],
   "source": [
    "add_data = '''INSERT INTO tips\n",
    "    (weekday, meal_type, wait_staff, party_size, meal_total, tip)\n",
    "    VALUES\n",
    "    (Saturday, Breakfast, Alfred, 1, 10.76, 0.50);'''\n",
    "\n",
    "records = db_server_change(add_data)\n",
    "print(f'Records:\\n {records} \\n\\n Row Count: {rows}')"
   ]
  },
  {
   "cell_type": "markdown",
   "metadata": {},
   "source": [
    "#### Make a `SELECT` Request to Get New Records"
   ]
  },
  {
   "cell_type": "code",
   "execution_count": null,
   "metadata": {},
   "outputs": [],
   "source": [
    "select_query = '''SELECT * FROM tips WHERE wait_staff=\"Alfred\";'''\n",
    "\n",
    "records = db_server_fetch(create_table_query)\n",
    "print(records)"
   ]
  }
 ],
 "metadata": {
  "kernelspec": {
   "display_name": "Python 3",
   "language": "python",
   "name": "python3"
  },
  "language_info": {
   "codemirror_mode": {
    "name": "ipython",
    "version": 3
   },
   "file_extension": ".py",
   "mimetype": "text/x-python",
   "name": "python",
   "nbconvert_exporter": "python",
   "pygments_lexer": "ipython3",
   "version": "3.7.4"
  }
 },
 "nbformat": 4,
 "nbformat_minor": 2
}
